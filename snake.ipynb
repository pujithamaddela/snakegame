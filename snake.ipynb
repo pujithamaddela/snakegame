{
 "cells": [
  {
   "cell_type": "code",
   "execution_count": null,
   "id": "a17543d8-d8c5-46e2-a211-55025b7fe280",
   "metadata": {},
   "outputs": [
    {
     "name": "stdout",
     "output_type": "stream",
     "text": [
      ". . F . . . . . . . \n",
      ". . . . . . . . . . \n",
      ". . . . . . . . . . \n",
      ". . . . . . . . . . \n",
      ". . . . . . . . . . \n",
      ". . . . . S . . . . \n",
      ". . . . . . . . . . \n",
      ". . . . . . . . . . \n",
      ". . . . . . . . . . \n",
      ". . . . . . . . . . \n",
      "\n",
      "score: 0\n"
     ]
    },
    {
     "name": "stdin",
     "output_type": "stream",
     "text": [
      "enter direction (up/down/left/right): up\n"
     ]
    },
    {
     "name": "stdout",
     "output_type": "stream",
     "text": [
      ". . F . . . . . . . \n",
      ". . . . . . . . . . \n",
      ". . . . . . . . . . \n",
      ". . . . . . . . . . \n",
      ". . . . . S . . . . \n",
      ". . . . . . . . . . \n",
      ". . . . . . . . . . \n",
      ". . . . . . . . . . \n",
      ". . . . . . . . . . \n",
      ". . . . . . . . . . \n",
      "\n",
      "score: 0\n"
     ]
    },
    {
     "name": "stdin",
     "output_type": "stream",
     "text": [
      "enter direction (up/down/left/right): up\n"
     ]
    },
    {
     "name": "stdout",
     "output_type": "stream",
     "text": [
      ". . F . . . . . . . \n",
      ". . . . . . . . . . \n",
      ". . . . . . . . . . \n",
      ". . . . . S . . . . \n",
      ". . . . . . . . . . \n",
      ". . . . . . . . . . \n",
      ". . . . . . . . . . \n",
      ". . . . . . . . . . \n",
      ". . . . . . . . . . \n",
      ". . . . . . . . . . \n",
      "\n",
      "score: 0\n"
     ]
    },
    {
     "name": "stdin",
     "output_type": "stream",
     "text": [
      "enter direction (up/down/left/right): up\n"
     ]
    },
    {
     "name": "stdout",
     "output_type": "stream",
     "text": [
      ". . F . . . . . . . \n",
      ". . . . . . . . . . \n",
      ". . . . . S . . . . \n",
      ". . . . . . . . . . \n",
      ". . . . . . . . . . \n",
      ". . . . . . . . . . \n",
      ". . . . . . . . . . \n",
      ". . . . . . . . . . \n",
      ". . . . . . . . . . \n",
      ". . . . . . . . . . \n",
      "\n",
      "score: 0\n"
     ]
    },
    {
     "name": "stdin",
     "output_type": "stream",
     "text": [
      "enter direction (up/down/left/right): up\n"
     ]
    },
    {
     "name": "stdout",
     "output_type": "stream",
     "text": [
      ". . F . . . . . . . \n",
      ". . . . . S . . . . \n",
      ". . . . . . . . . . \n",
      ". . . . . . . . . . \n",
      ". . . . . . . . . . \n",
      ". . . . . . . . . . \n",
      ". . . . . . . . . . \n",
      ". . . . . . . . . . \n",
      ". . . . . . . . . . \n",
      ". . . . . . . . . . \n",
      "\n",
      "score: 0\n"
     ]
    },
    {
     "name": "stdin",
     "output_type": "stream",
     "text": [
      "enter direction (up/down/left/right): up\n"
     ]
    },
    {
     "name": "stdout",
     "output_type": "stream",
     "text": [
      ". . F . . S . . . . \n",
      ". . . . . . . . . . \n",
      ". . . . . . . . . . \n",
      ". . . . . . . . . . \n",
      ". . . . . . . . . . \n",
      ". . . . . . . . . . \n",
      ". . . . . . . . . . \n",
      ". . . . . . . . . . \n",
      ". . . . . . . . . . \n",
      ". . . . . . . . . . \n",
      "\n",
      "score: 0\n"
     ]
    },
    {
     "name": "stdin",
     "output_type": "stream",
     "text": [
      "enter direction (up/down/left/right): left\n"
     ]
    },
    {
     "name": "stdout",
     "output_type": "stream",
     "text": [
      ". . F . S . . . . . \n",
      ". . . . . . . . . . \n",
      ". . . . . . . . . . \n",
      ". . . . . . . . . . \n",
      ". . . . . . . . . . \n",
      ". . . . . . . . . . \n",
      ". . . . . . . . . . \n",
      ". . . . . . . . . . \n",
      ". . . . . . . . . . \n",
      ". . . . . . . . . . \n",
      "\n",
      "score: 0\n"
     ]
    },
    {
     "name": "stdin",
     "output_type": "stream",
     "text": [
      "enter direction (up/down/left/right): left\n"
     ]
    },
    {
     "name": "stdout",
     "output_type": "stream",
     "text": [
      ". . F S . . . . . . \n",
      ". . . . . . . . . . \n",
      ". . . . . . . . . . \n",
      ". . . . . . . . . . \n",
      ". . . . . . . . . . \n",
      ". . . . . . . . . . \n",
      ". . . . . . . . . . \n",
      ". . . . . . . . . . \n",
      ". . . . . . . . . . \n",
      ". . . . . . . . . . \n",
      "\n",
      "score: 0\n"
     ]
    },
    {
     "name": "stdin",
     "output_type": "stream",
     "text": [
      "enter direction (up/down/left/right): left\n"
     ]
    },
    {
     "name": "stdout",
     "output_type": "stream",
     "text": [
      ". . S S . . . . . . \n",
      ". . . . . . . . . . \n",
      ". . . . . . . . . . \n",
      ". . . . . . . . . . \n",
      ". . . . . . . . . . \n",
      ". . . . . . . F . . \n",
      ". . . . . . . . . . \n",
      ". . . . . . . . . . \n",
      ". . . . . . . . . . \n",
      ". . . . . . . . . . \n",
      "\n",
      "score: 1\n"
     ]
    }
   ],
   "source": [
    "import random\n",
    "width=10\n",
    "height=10\n",
    "def print_board(snake, food):\n",
    "    for y in range(height):\n",
    "        for x in range(width):\n",
    "            if [x,y]==food:\n",
    "                print('F', end=\" \")\n",
    "            elif [x,y] in snake:\n",
    "                print('S', end=\" \")\n",
    "            else:\n",
    "                print(\".\", end=\" \")\n",
    "        print()\n",
    "    print()\n",
    "\n",
    "\n",
    "def move_snake(snake,direction):\n",
    "    head=snake[-1]\n",
    "    if direction== \"up\":\n",
    "        new_head= [head[0], head[1] -1]\n",
    "    elif direction== \"down\":\n",
    "        new_head= [head[0], head[1] +1]\n",
    "    elif direction== \"left\":\n",
    "        new_head= [head[0]-1, head[1]]\n",
    "    elif irection== \"right\":\n",
    "        new_head= [head[0]+1, head[1]]\n",
    "    else:\n",
    "        print(\"Invalid direction! use left/right/down/up.\")\n",
    "        return snake, False\n",
    "    \n",
    "\n",
    "#wall collied condition\n",
    "    if new_head[0]<0 or new_head[0]>=width or new_head[1]<0 or new_head[1]>=height:\n",
    "        return snake, \"wall\"\n",
    "#self collide condition\n",
    "    if new_head in snake:\n",
    "        return snake, \"self\"\n",
    "\n",
    "    snake.append(new_head)\n",
    "    return snake, new_head\n",
    "\n",
    "def place_food(snake):\n",
    "    while True:\n",
    "        x = random.randint(0, width -1)\n",
    "        y = random.randint(0, height -1)\n",
    "        if [x,y] not in snake:\n",
    "            return[x,y]\n",
    "\n",
    "def snake_game():\n",
    "    snake=[[5,5]]\n",
    "    food=place_food(snake)\n",
    "    score=0\n",
    "\n",
    "    while True:\n",
    "        print_board(snake, food)\n",
    "        print(\"score:\", score)\n",
    "        direction= input(\"enter direction (up/down/left/right):\")\n",
    "\n",
    "        snake, result=move_snake(snake, direction)\n",
    "\n",
    "        if result==\"wall\":\n",
    "            print(\"you hit the wall, game over!!!\")\n",
    "            break\n",
    "        elif result==\"self\":\n",
    "            print(\" you hit yourself...game over!!!\")\n",
    "            break\n",
    "        elif result==food:\n",
    "            score+=1\n",
    "            food= place_food(snake)\n",
    "        else:\n",
    "            snake.pop(0)\n",
    "    print(\"Final Score:\",score)\n",
    "\n",
    "snake_game()"
   ]
  },
  {
   "cell_type": "code",
   "execution_count": null,
   "id": "2a0a6af3-0e8a-4cb4-9c76-2ab2a48f00a3",
   "metadata": {},
   "outputs": [],
   "source": []
  }
 ],
 "metadata": {
  "kernelspec": {
   "display_name": "Python 3 (ipykernel)",
   "language": "python",
   "name": "python3"
  },
  "language_info": {
   "codemirror_mode": {
    "name": "ipython",
    "version": 3
   },
   "file_extension": ".py",
   "mimetype": "text/x-python",
   "name": "python",
   "nbconvert_exporter": "python",
   "pygments_lexer": "ipython3",
   "version": "3.12.7"
  }
 },
 "nbformat": 4,
 "nbformat_minor": 5
}
